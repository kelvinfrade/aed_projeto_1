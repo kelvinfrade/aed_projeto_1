{
 "cells": [
  {
   "cell_type": "markdown",
   "metadata": {},
   "source": [
    "<h1><center> Aula 8 - Prática em Classificação </center></h1>"
   ]
  },
  {
   "cell_type": "markdown",
   "metadata": {},
   "source": [
    "O problema fundamental de classificação consiste em determinar a quais classes (rótulo) um dado previamente não visto pertence. Nesta aula prática vamos abordar este assunto. Essa aula vai introduzir também conceitos que serão vistos com mais detalhes nas aulas seguintes. Nosso objetivo é começar com <a href= https://scikit-learn.org/stable/modules/tree.html> Árvore de decisão </a>, conforme visto na aula teórica e depois mergulhar um pouco mais para explorar classificadores diferentes, por exemplo: <a href= https://scikit-learn.org/stable/modules/naive_bayes.html> Naive Bayes </a>, <a href = https://scikit-learn.org/stable/modules/generated/sklearn.ensemble.RandomForestClassifier.html> Random Forest </a> e <a href = https://scikit-learn.org/stable/modules/svm.html>SVM</a>. \n",
    "\n",
    "A base de dados escolhida hoje vem de um repositório chamado UCI e o problema apresentado consiste em prever se determinada pessoa tem um salário anual maior que 50K:\n",
    "<a href= https://archive.ics.uci.edu/ml/datasets/Adult>Descrição da base</a> <a href= https://archive.ics.uci.edu/ml/machine-learning-databases/adult/adult.data>Download da base</a> \n",
    "\n",
    "\n",
    "Adicionalmente vamos praticar os conceitos aprendidos na aula anterior e tentar usar o algoritmo construído em sala para classificar a mesma base de dados. Mãos a obra!"
   ]
  },
  {
   "cell_type": "markdown",
   "metadata": {},
   "source": [
    "O primeiro passo é importar as bibliotecas que serão utilizadas. Abaixo estão as principais bibliotecas que já conhecemos, com alguns componentes novos. Tire um tempo para pesquisar um pouco sobre cada um deles.  \n",
    "\n",
    "Em outros pontos do código serão necessárias novos módulos. Vamos deixar para chamar esses módulos mais próximo de onde serão usados. "
   ]
  },
  {
   "cell_type": "code",
   "execution_count": 1,
   "metadata": {},
   "outputs": [],
   "source": [
    "import matplotlib.pyplot as plt # visualização de dados\n",
    "import seaborn as sns # visualização de dados\n",
    "\n",
    "import numpy as np # linear algebra\n",
    "import pandas as pd # data processing\n",
    "from sklearn.metrics import accuracy_score"
   ]
  },
  {
   "cell_type": "markdown",
   "metadata": {},
   "source": [
    "Lendo a base e excluindo as tuplas null .csv é mostrada abaixo:"
   ]
  },
  {
   "cell_type": "code",
   "execution_count": 3,
   "metadata": {},
   "outputs": [],
   "source": [
    "features = [\"Age\", \"Workclass\", \"fnlwgt\", \"Education\", \"Education-Num\", \"Marital Status\",\n",
    "            \"Occupation\", \"Relationship\", \"Race\", \"Sex\", \"Capital Gain\", \"Capital Loss\",\n",
    "            \"Hours per week\", \"Country\", \"Target\"]\n",
    "\n",
    "df = pd.read_csv(\"data.csv\", names=features,\n",
    "    sep=r'\\s*,\\s*',\n",
    "    engine='python',\n",
    "    na_values=\"?\").dropna()\n"
   ]
  },
  {
   "cell_type": "code",
   "execution_count": 4,
   "metadata": {},
   "outputs": [
    {
     "data": {
      "text/html": [
       "<div>\n",
       "<style scoped>\n",
       "    .dataframe tbody tr th:only-of-type {\n",
       "        vertical-align: middle;\n",
       "    }\n",
       "\n",
       "    .dataframe tbody tr th {\n",
       "        vertical-align: top;\n",
       "    }\n",
       "\n",
       "    .dataframe thead th {\n",
       "        text-align: right;\n",
       "    }\n",
       "</style>\n",
       "<table border=\"1\" class=\"dataframe\">\n",
       "  <thead>\n",
       "    <tr style=\"text-align: right;\">\n",
       "      <th></th>\n",
       "      <th>Age</th>\n",
       "      <th>Workclass</th>\n",
       "      <th>fnlwgt</th>\n",
       "      <th>Education</th>\n",
       "      <th>Education-Num</th>\n",
       "      <th>Marital Status</th>\n",
       "      <th>Occupation</th>\n",
       "      <th>Relationship</th>\n",
       "      <th>Race</th>\n",
       "      <th>Sex</th>\n",
       "      <th>Capital Gain</th>\n",
       "      <th>Capital Loss</th>\n",
       "      <th>Hours per week</th>\n",
       "      <th>Country</th>\n",
       "      <th>Target</th>\n",
       "    </tr>\n",
       "  </thead>\n",
       "  <tbody>\n",
       "    <tr>\n",
       "      <td>0</td>\n",
       "      <td>39</td>\n",
       "      <td>State-gov</td>\n",
       "      <td>77516</td>\n",
       "      <td>Bachelors</td>\n",
       "      <td>13</td>\n",
       "      <td>Never-married</td>\n",
       "      <td>Adm-clerical</td>\n",
       "      <td>Not-in-family</td>\n",
       "      <td>White</td>\n",
       "      <td>Male</td>\n",
       "      <td>2174</td>\n",
       "      <td>0</td>\n",
       "      <td>40</td>\n",
       "      <td>United-States</td>\n",
       "      <td>&lt;=50K</td>\n",
       "    </tr>\n",
       "    <tr>\n",
       "      <td>1</td>\n",
       "      <td>50</td>\n",
       "      <td>Self-emp-not-inc</td>\n",
       "      <td>83311</td>\n",
       "      <td>Bachelors</td>\n",
       "      <td>13</td>\n",
       "      <td>Married-civ-spouse</td>\n",
       "      <td>Exec-managerial</td>\n",
       "      <td>Husband</td>\n",
       "      <td>White</td>\n",
       "      <td>Male</td>\n",
       "      <td>0</td>\n",
       "      <td>0</td>\n",
       "      <td>13</td>\n",
       "      <td>United-States</td>\n",
       "      <td>&lt;=50K</td>\n",
       "    </tr>\n",
       "    <tr>\n",
       "      <td>2</td>\n",
       "      <td>38</td>\n",
       "      <td>Private</td>\n",
       "      <td>215646</td>\n",
       "      <td>HS-grad</td>\n",
       "      <td>9</td>\n",
       "      <td>Divorced</td>\n",
       "      <td>Handlers-cleaners</td>\n",
       "      <td>Not-in-family</td>\n",
       "      <td>White</td>\n",
       "      <td>Male</td>\n",
       "      <td>0</td>\n",
       "      <td>0</td>\n",
       "      <td>40</td>\n",
       "      <td>United-States</td>\n",
       "      <td>&lt;=50K</td>\n",
       "    </tr>\n",
       "    <tr>\n",
       "      <td>3</td>\n",
       "      <td>53</td>\n",
       "      <td>Private</td>\n",
       "      <td>234721</td>\n",
       "      <td>11th</td>\n",
       "      <td>7</td>\n",
       "      <td>Married-civ-spouse</td>\n",
       "      <td>Handlers-cleaners</td>\n",
       "      <td>Husband</td>\n",
       "      <td>Black</td>\n",
       "      <td>Male</td>\n",
       "      <td>0</td>\n",
       "      <td>0</td>\n",
       "      <td>40</td>\n",
       "      <td>United-States</td>\n",
       "      <td>&lt;=50K</td>\n",
       "    </tr>\n",
       "    <tr>\n",
       "      <td>4</td>\n",
       "      <td>28</td>\n",
       "      <td>Private</td>\n",
       "      <td>338409</td>\n",
       "      <td>Bachelors</td>\n",
       "      <td>13</td>\n",
       "      <td>Married-civ-spouse</td>\n",
       "      <td>Prof-specialty</td>\n",
       "      <td>Wife</td>\n",
       "      <td>Black</td>\n",
       "      <td>Female</td>\n",
       "      <td>0</td>\n",
       "      <td>0</td>\n",
       "      <td>40</td>\n",
       "      <td>Cuba</td>\n",
       "      <td>&lt;=50K</td>\n",
       "    </tr>\n",
       "  </tbody>\n",
       "</table>\n",
       "</div>"
      ],
      "text/plain": [
       "   Age         Workclass  fnlwgt  Education  Education-Num  \\\n",
       "0   39         State-gov   77516  Bachelors             13   \n",
       "1   50  Self-emp-not-inc   83311  Bachelors             13   \n",
       "2   38           Private  215646    HS-grad              9   \n",
       "3   53           Private  234721       11th              7   \n",
       "4   28           Private  338409  Bachelors             13   \n",
       "\n",
       "       Marital Status         Occupation   Relationship   Race     Sex  \\\n",
       "0       Never-married       Adm-clerical  Not-in-family  White    Male   \n",
       "1  Married-civ-spouse    Exec-managerial        Husband  White    Male   \n",
       "2            Divorced  Handlers-cleaners  Not-in-family  White    Male   \n",
       "3  Married-civ-spouse  Handlers-cleaners        Husband  Black    Male   \n",
       "4  Married-civ-spouse     Prof-specialty           Wife  Black  Female   \n",
       "\n",
       "   Capital Gain  Capital Loss  Hours per week        Country Target  \n",
       "0          2174             0              40  United-States  <=50K  \n",
       "1             0             0              13  United-States  <=50K  \n",
       "2             0             0              40  United-States  <=50K  \n",
       "3             0             0              40  United-States  <=50K  \n",
       "4             0             0              40           Cuba  <=50K  "
      ]
     },
     "execution_count": 4,
     "metadata": {},
     "output_type": "execute_result"
    }
   ],
   "source": [
    "#vamos dar uma espiada na base\n",
    "df.head(5)"
   ]
  },
  {
   "cell_type": "code",
   "execution_count": 5,
   "metadata": {},
   "outputs": [
    {
     "name": "stdout",
     "output_type": "stream",
     "text": [
      "Número de linhas e número de colunas: (30162, 15)\n"
     ]
    }
   ],
   "source": [
    "# qual o tamanho da nossa base?\n",
    "print('Número de linhas e número de colunas:', df.shape)"
   ]
  },
  {
   "cell_type": "markdown",
   "metadata": {},
   "source": [
    "Agora precisamos separar o atributo que queremos prever dos demais"
   ]
  },
  {
   "cell_type": "code",
   "execution_count": 6,
   "metadata": {},
   "outputs": [
    {
     "data": {
      "text/plain": [
       "Index(['Age', 'Workclass', 'fnlwgt', 'Education', 'Education-Num',\n",
       "       'Marital Status', 'Occupation', 'Relationship', 'Race', 'Sex',\n",
       "       'Capital Gain', 'Capital Loss', 'Hours per week', 'Country'],\n",
       "      dtype='object')"
      ]
     },
     "execution_count": 6,
     "metadata": {},
     "output_type": "execute_result"
    }
   ],
   "source": [
    "\"\"\" target são os valores que queremos prever.\"\"\"\n",
    "target = df['Target']\n",
    "\n",
    "\"\"\" Agora podemos retirar a coluna do DataFrame. Para isto, utilize a função drop\"\"\"\n",
    "df = df.drop(['Target'],axis=1)\n",
    "\n",
    "\"\"\" mostre os nomes de colunas do dataframe para verificar exclusão da coluna\"\"\"\n",
    "df.columns"
   ]
  },
  {
   "cell_type": "markdown",
   "metadata": {},
   "source": [
    "No próximo passo vamos binarizar os atributos categóricos:\n",
    "\n",
    "Transformaremos a coluna:\n",
    "\n",
    "| Workclass |\n",
    "|------|\n",
    "| Private  |\n",
    "| Self-emp-not-inc  |\n",
    "| Local-gov  |\n",
    "| State-gov  |\n",
    "| Self-emp-inc  |\n",
    "| Federal-gov  |\n",
    "| Without-pay  |\n",
    "\n",
    "\n",
    "para algo semelhante a:\n",
    "\n",
    "| Private  | Self-emp-not-inc  | Local-gov  | State-gov  | Self-emp-inc  | Federal-gov  | Without-pay |\n",
    "|----------|-------------------|------------|------------|---------------|--------------|-------------|\n",
    "|1|0|0|0|0|0|0|\n",
    "|0|1|0|0|0|0|0|\n",
    "|0|0|1|0|0|0|0|\n",
    "|0|0|0|1|0|0|0|\n",
    "|0|0|0|0|1|0|0|\n",
    "|0|0|0|0|0|1|0|\n",
    "|0|0|0|0|0|0|1|"
   ]
  },
  {
   "cell_type": "markdown",
   "metadata": {},
   "source": [
    "Esse processo é usado com bastante frequência e recebe o nome de <i>One-Hot Encoding</i>. Existe uma função built-in do pandas para executar essa tarefa chamada <a href = https://pandas.pydata.org/pandas-docs/stable/reference/api/pandas.get_dummies.html > get_dummies()</a>. Faça uma visita à página da documentação para entender melhor. \n",
    "\n",
    "Acessando o link acima, podemos ver que a função get_dummies é aplicada automaticamente em todas as colunas do DataFrame que apresentam tipo = Object. Podemos então passar todo o DataFrame como entrada para a função.\n",
    "\n",
    "Utilizando nossos dados como entrada, vamos aplicar a função get_dummies. Lembre-se que esta é uma função do pandas, e sua chamada deve ser feita da forma: \n",
    "\n",
    "<b> saida = pd.nome_funcao(entrada) </b>"
   ]
  },
  {
   "cell_type": "code",
   "execution_count": 6,
   "metadata": {},
   "outputs": [],
   "source": [
    "\"\"\" Aplique a função get_dummies\"\"\" \n",
    "\n",
    "#YOUR CODE HERE\n",
    "df = pd.get_dummies(df)"
   ]
  },
  {
   "cell_type": "code",
   "execution_count": 9,
   "metadata": {},
   "outputs": [
    {
     "data": {
      "text/html": [
       "<div>\n",
       "<style scoped>\n",
       "    .dataframe tbody tr th:only-of-type {\n",
       "        vertical-align: middle;\n",
       "    }\n",
       "\n",
       "    .dataframe tbody tr th {\n",
       "        vertical-align: top;\n",
       "    }\n",
       "\n",
       "    .dataframe thead th {\n",
       "        text-align: right;\n",
       "    }\n",
       "</style>\n",
       "<table border=\"1\" class=\"dataframe\">\n",
       "  <thead>\n",
       "    <tr style=\"text-align: right;\">\n",
       "      <th></th>\n",
       "      <th>Age</th>\n",
       "      <th>fnlwgt</th>\n",
       "      <th>Education-Num</th>\n",
       "      <th>Capital Gain</th>\n",
       "      <th>Capital Loss</th>\n",
       "      <th>Hours per week</th>\n",
       "      <th>Workclass_Federal-gov</th>\n",
       "      <th>Workclass_Local-gov</th>\n",
       "      <th>Workclass_Private</th>\n",
       "      <th>Workclass_Self-emp-inc</th>\n",
       "      <th>...</th>\n",
       "      <th>Country_Portugal</th>\n",
       "      <th>Country_Puerto-Rico</th>\n",
       "      <th>Country_Scotland</th>\n",
       "      <th>Country_South</th>\n",
       "      <th>Country_Taiwan</th>\n",
       "      <th>Country_Thailand</th>\n",
       "      <th>Country_Trinadad&amp;Tobago</th>\n",
       "      <th>Country_United-States</th>\n",
       "      <th>Country_Vietnam</th>\n",
       "      <th>Country_Yugoslavia</th>\n",
       "    </tr>\n",
       "  </thead>\n",
       "  <tbody>\n",
       "    <tr>\n",
       "      <th>0</th>\n",
       "      <td>39</td>\n",
       "      <td>77516</td>\n",
       "      <td>13</td>\n",
       "      <td>2174</td>\n",
       "      <td>0</td>\n",
       "      <td>40</td>\n",
       "      <td>0</td>\n",
       "      <td>0</td>\n",
       "      <td>0</td>\n",
       "      <td>0</td>\n",
       "      <td>...</td>\n",
       "      <td>0</td>\n",
       "      <td>0</td>\n",
       "      <td>0</td>\n",
       "      <td>0</td>\n",
       "      <td>0</td>\n",
       "      <td>0</td>\n",
       "      <td>0</td>\n",
       "      <td>1</td>\n",
       "      <td>0</td>\n",
       "      <td>0</td>\n",
       "    </tr>\n",
       "    <tr>\n",
       "      <th>1</th>\n",
       "      <td>50</td>\n",
       "      <td>83311</td>\n",
       "      <td>13</td>\n",
       "      <td>0</td>\n",
       "      <td>0</td>\n",
       "      <td>13</td>\n",
       "      <td>0</td>\n",
       "      <td>0</td>\n",
       "      <td>0</td>\n",
       "      <td>0</td>\n",
       "      <td>...</td>\n",
       "      <td>0</td>\n",
       "      <td>0</td>\n",
       "      <td>0</td>\n",
       "      <td>0</td>\n",
       "      <td>0</td>\n",
       "      <td>0</td>\n",
       "      <td>0</td>\n",
       "      <td>1</td>\n",
       "      <td>0</td>\n",
       "      <td>0</td>\n",
       "    </tr>\n",
       "    <tr>\n",
       "      <th>2</th>\n",
       "      <td>38</td>\n",
       "      <td>215646</td>\n",
       "      <td>9</td>\n",
       "      <td>0</td>\n",
       "      <td>0</td>\n",
       "      <td>40</td>\n",
       "      <td>0</td>\n",
       "      <td>0</td>\n",
       "      <td>1</td>\n",
       "      <td>0</td>\n",
       "      <td>...</td>\n",
       "      <td>0</td>\n",
       "      <td>0</td>\n",
       "      <td>0</td>\n",
       "      <td>0</td>\n",
       "      <td>0</td>\n",
       "      <td>0</td>\n",
       "      <td>0</td>\n",
       "      <td>1</td>\n",
       "      <td>0</td>\n",
       "      <td>0</td>\n",
       "    </tr>\n",
       "    <tr>\n",
       "      <th>3</th>\n",
       "      <td>53</td>\n",
       "      <td>234721</td>\n",
       "      <td>7</td>\n",
       "      <td>0</td>\n",
       "      <td>0</td>\n",
       "      <td>40</td>\n",
       "      <td>0</td>\n",
       "      <td>0</td>\n",
       "      <td>1</td>\n",
       "      <td>0</td>\n",
       "      <td>...</td>\n",
       "      <td>0</td>\n",
       "      <td>0</td>\n",
       "      <td>0</td>\n",
       "      <td>0</td>\n",
       "      <td>0</td>\n",
       "      <td>0</td>\n",
       "      <td>0</td>\n",
       "      <td>1</td>\n",
       "      <td>0</td>\n",
       "      <td>0</td>\n",
       "    </tr>\n",
       "    <tr>\n",
       "      <th>4</th>\n",
       "      <td>28</td>\n",
       "      <td>338409</td>\n",
       "      <td>13</td>\n",
       "      <td>0</td>\n",
       "      <td>0</td>\n",
       "      <td>40</td>\n",
       "      <td>0</td>\n",
       "      <td>0</td>\n",
       "      <td>1</td>\n",
       "      <td>0</td>\n",
       "      <td>...</td>\n",
       "      <td>0</td>\n",
       "      <td>0</td>\n",
       "      <td>0</td>\n",
       "      <td>0</td>\n",
       "      <td>0</td>\n",
       "      <td>0</td>\n",
       "      <td>0</td>\n",
       "      <td>0</td>\n",
       "      <td>0</td>\n",
       "      <td>0</td>\n",
       "    </tr>\n",
       "  </tbody>\n",
       "</table>\n",
       "<p>5 rows × 104 columns</p>\n",
       "</div>"
      ],
      "text/plain": [
       "   Age  fnlwgt  Education-Num  Capital Gain  Capital Loss  Hours per week  \\\n",
       "0   39   77516             13          2174             0              40   \n",
       "1   50   83311             13             0             0              13   \n",
       "2   38  215646              9             0             0              40   \n",
       "3   53  234721              7             0             0              40   \n",
       "4   28  338409             13             0             0              40   \n",
       "\n",
       "   Workclass_Federal-gov  Workclass_Local-gov  Workclass_Private  \\\n",
       "0                      0                    0                  0   \n",
       "1                      0                    0                  0   \n",
       "2                      0                    0                  1   \n",
       "3                      0                    0                  1   \n",
       "4                      0                    0                  1   \n",
       "\n",
       "   Workclass_Self-emp-inc         ...          Country_Portugal  \\\n",
       "0                       0         ...                         0   \n",
       "1                       0         ...                         0   \n",
       "2                       0         ...                         0   \n",
       "3                       0         ...                         0   \n",
       "4                       0         ...                         0   \n",
       "\n",
       "   Country_Puerto-Rico  Country_Scotland  Country_South  Country_Taiwan  \\\n",
       "0                    0                 0              0               0   \n",
       "1                    0                 0              0               0   \n",
       "2                    0                 0              0               0   \n",
       "3                    0                 0              0               0   \n",
       "4                    0                 0              0               0   \n",
       "\n",
       "   Country_Thailand  Country_Trinadad&Tobago  Country_United-States  \\\n",
       "0                 0                        0                      1   \n",
       "1                 0                        0                      1   \n",
       "2                 0                        0                      1   \n",
       "3                 0                        0                      1   \n",
       "4                 0                        0                      0   \n",
       "\n",
       "   Country_Vietnam  Country_Yugoslavia  \n",
       "0                0                   0  \n",
       "1                0                   0  \n",
       "2                0                   0  \n",
       "3                0                   0  \n",
       "4                0                   0  \n",
       "\n",
       "[5 rows x 104 columns]"
      ]
     },
     "execution_count": 9,
     "metadata": {},
     "output_type": "execute_result"
    }
   ],
   "source": [
    "#vamos dar mais uma espiada no DataFrame para ver como ficou, bem como seu novo tamanho\n",
    "df.head(5)"
   ]
  },
  {
   "cell_type": "code",
   "execution_count": 10,
   "metadata": {},
   "outputs": [
    {
     "data": {
      "text/plain": [
       "(30162, 104)"
      ]
     },
     "execution_count": 10,
     "metadata": {},
     "output_type": "execute_result"
    }
   ],
   "source": [
    "df.shape"
   ]
  },
  {
   "cell_type": "markdown",
   "metadata": {},
   "source": [
    "<h2><center> Mergulhando no Aprendizado </center></h2>"
   ]
  },
  {
   "cell_type": "markdown",
   "metadata": {},
   "source": [
    "Vamos começar separando nossos dados em conjuntos de treino e teste. Para que as métricas do seu teste sejam confiáveis, você não pode mostrar nenhum dado do teste durante o treinamento para o modelo. Isso pode ser feito de mais de uma forma: *train test split, cross validation, leave one out etc*. Volte nos slides da aula ou consulte alguns outros materiais online se ficar alguma dúvida. \n",
    "\n",
    "A biblioteca sklearn fornece algumas funções que separam os dados para treino e teste podem ser vistos [aqui](http://scikit-learn.org/stable/modules/classes.html#module-sklearn.model_selection).\n",
    "Para esse exemplo, utilizaremos o train_test_split e a sua [documentação](http://scikit-learn.org/stable/modules/generated/sklearn.model_selection.train_test_split.html) no scikit-learn"
   ]
  },
  {
   "cell_type": "code",
   "execution_count": 11,
   "metadata": {},
   "outputs": [],
   "source": [
    "# importar train_test_split do sklearn para dividir dados de treino e teste\n",
    "from sklearn.model_selection import train_test_split"
   ]
  },
  {
   "cell_type": "markdown",
   "metadata": {},
   "source": [
    "Sempre ao usar aleatoriedade nos seus códigos, guarde a semente usada para aleatorizar garantindo que os resultados serão reprodutíveis e comparações entre execuções poderão ser feitas sem maiores dificuldades"
   ]
  },
  {
   "cell_type": "code",
   "execution_count": 12,
   "metadata": {},
   "outputs": [],
   "source": [
    "RANDOM_STATE = 1"
   ]
  },
  {
   "cell_type": "markdown",
   "metadata": {},
   "source": [
    "Finalmente, usando a semente aleatória guardada na variável \"RANDOM_STATE\" e o módulo train_test_split importado do sklearn, podemos separar nossa base em grupos para o treino e o teste. Observem como a lista de variáveis escrita anteriormente pode ser passada para o dataframe como um \"filtro\" de quais colunas queremos dele."
   ]
  },
  {
   "cell_type": "code",
   "execution_count": 13,
   "metadata": {},
   "outputs": [],
   "source": [
    "\"\"\" \n",
    " divida os dados em conjuntos de treino e teste, o parâmetro test_size indica \n",
    " o percentual de amostras que serão selecionadas para teste \n",
    " para este exemplo, utilize test_size = 0.25\n",
    "\"\"\"\n",
    "X_train, X_test, y_train, y_test = train_test_split(df,\n",
    "                                                    target, \n",
    "                                                    test_size=0.33, # 33% será amostra de teste\n",
    "                                                    random_state=RANDOM_STATE,\n",
    "                                                    stratify=target)"
   ]
  },
  {
   "cell_type": "markdown",
   "metadata": {},
   "source": [
    "#  Árvore de decisão"
   ]
  },
  {
   "cell_type": "markdown",
   "metadata": {},
   "source": [
    "Nessa aula prática, vamos comparar os resultados de alguns classificadores. Primeiramente vamos praticar com o algoritmo de <a href= https://scikit-learn.org/stable/modules/tree.html> Árvore de decisão </a>. Na sequência, fica como exercício modificar o código para usar outros classificadores disponíveis na biblioteca para efetuar a comparação\n",
    "\n",
    "Sugestão de algoritmos para comparação:\n",
    "<a href= https://scikit-learn.org/stable/modules/naive_bayes.html> Naive Bayes </a>, <a href = https://scikit-learn.org/stable/modules/generated/sklearn.ensemble.RandomForestClassifier.html> Random Forest </a> e <a href = https://scikit-learn.org/stable/modules/svm.html>SVM</a>.\n",
    "\n",
    "\n",
    "Começaremos importando a árvore de decisão [(sklearn.tree)](http://scikit-learn.org/stable/modules/tree.html) e a visualização da árvore será feita com o graphviz [(sklearn.export_graphviz)](http://scikit-learn.org/stable/modules/tree.html). \n",
    "\n",
    "Utilize a célula abaixo para visualizar a árvore construída pelo seu classificador. Experimente variar os parâmetros do classificador e observe o efeito resultante na árvore:\n",
    "\n",
    "* Nenhum parâmetro\n",
    "* Ajuste o tamanho máximo da árvore para 3:\n",
    "        tree.DecisionTreeClassifier(max_depth=3)\n",
    "* Ajuste a quantidade mínima de elementos nas folhas para 4:\n",
    "        tree.DecisionTreeClassifier(min_samples_leaf=4)\n",
    "* Altere o RANDOM_STATE para None e observe que a árvore gerada poderá variar mesmo que todo o resto permaneça constante"
   ]
  },
  {
   "cell_type": "code",
   "execution_count": 17,
   "metadata": {},
   "outputs": [],
   "source": [
    "# Usando o módulo tree para chamar o classificador de árvore de decisão\n",
    "from sklearn import tree\n",
    "\n",
    "# Guardando a semente aleatória\n",
    "RANDOM_STATE = 1\n",
    "\n",
    "# vamos variar os parâmetros da DecisionTree implementada no sklearn, busque sua explicação detalhada na documentação\n",
    "dec_clf = tree.DecisionTreeClassifier()\n",
    "\n",
    "# Usando os arquivos de treino com as variáveis e o target, ajustamos um modelo\n",
    "dec_clf.fit(X_train, y_train)\n",
    "\n",
    "variables = df.columns\n",
    "\n",
    "# Usando a biblioteca graphviz, podemos plotar a árvore gerada pelo nosso modelo \n",
    "# Caso você não tenha instale usando o comando pip install graphviz\n",
    "# import graphviz:\n",
    "# dot_data = tree.export_graphviz(dec_clf, out_file=None, feature_names=variables, \n",
    "#                                 class_names=dec_clf.classes_, filled=True) \n",
    "# graph = graphviz.Source(dot_data) \n",
    "# graph"
   ]
  },
  {
   "cell_type": "markdown",
   "metadata": {},
   "source": [
    "<b>Após treino, o objeto \"dec_clf\" é o nosso classificador por árvore de decisão. Podemos usá-lo para prever o valor das variáveis no conjunto de teste:</b>"
   ]
  },
  {
   "cell_type": "code",
   "execution_count": 19,
   "metadata": {},
   "outputs": [],
   "source": [
    "# Aplica o modelo nas variáveis de teste\n",
    "y_pred = dec_clf.predict(X_test)"
   ]
  },
  {
   "cell_type": "code",
   "execution_count": 20,
   "metadata": {},
   "outputs": [
    {
     "name": "stdout",
     "output_type": "stream",
     "text": [
      "Acuracia de 0.8104279686558168\n",
      "\n",
      "\n",
      "\n"
     ]
    }
   ],
   "source": [
    "#Avaliando o resultado: acuracia. Pergunta: Quais são potenciais problemas de se usar apenas a acurácia?\n",
    "acuracia = accuracy_score(y_pred, y_test)\n",
    "print(\"Acuracia de \"+str(acuracia))\n",
    "print(\"\\n\\n\")"
   ]
  },
  {
   "cell_type": "markdown",
   "metadata": {},
   "source": [
    "<b>Uma forma de avaliar o nosso modelo é comparando o valor previsto com o valor conhecido (salvo na variável y_test). A partir dessa comparação, construiremos a matriz de confusão, de onde podemos tirar a acurácia, precisão, revocação etc. Para isso, importaremos mais uma biblioteca [sklearn.confusion_matrix](http://scikit-learn.org/stable/auto_examples/model_selection/plot_confusion_matrix.html):</b>"
   ]
  },
  {
   "cell_type": "code",
   "execution_count": 21,
   "metadata": {},
   "outputs": [
    {
     "data": {
      "text/html": [
       "<div>\n",
       "<style scoped>\n",
       "    .dataframe tbody tr th:only-of-type {\n",
       "        vertical-align: middle;\n",
       "    }\n",
       "\n",
       "    .dataframe tbody tr th {\n",
       "        vertical-align: top;\n",
       "    }\n",
       "\n",
       "    .dataframe thead th {\n",
       "        text-align: right;\n",
       "    }\n",
       "</style>\n",
       "<table border=\"1\" class=\"dataframe\">\n",
       "  <thead>\n",
       "    <tr style=\"text-align: right;\">\n",
       "      <th></th>\n",
       "      <th>Prev &lt;=50K</th>\n",
       "      <th>Prev &gt;50K</th>\n",
       "    </tr>\n",
       "  </thead>\n",
       "  <tbody>\n",
       "    <tr>\n",
       "      <th>True &lt;=50K</th>\n",
       "      <td>6505</td>\n",
       "      <td>971</td>\n",
       "    </tr>\n",
       "    <tr>\n",
       "      <th>True &gt;50K</th>\n",
       "      <td>916</td>\n",
       "      <td>1562</td>\n",
       "    </tr>\n",
       "  </tbody>\n",
       "</table>\n",
       "</div>"
      ],
      "text/plain": [
       "            Prev <=50K  Prev >50K\n",
       "True <=50K        6505        971\n",
       "True >50K          916       1562"
      ]
     },
     "execution_count": 21,
     "metadata": {},
     "output_type": "execute_result"
    }
   ],
   "source": [
    "from sklearn.metrics import confusion_matrix\n",
    "\n",
    "# Compara o resultado do modelo com o resultado verdadeiro\n",
    "cnf_matrix = confusion_matrix(y_test, y_pred)\n",
    "\n",
    "# Constrói um Dataframe com a matriz de confusão apenas para ficar mais legível\n",
    "pd.DataFrame(cnf_matrix, columns=('Prev ' + dec_clf.classes_), \n",
    "             index=('True ' + dec_clf.classes_))\n"
   ]
  },
  {
   "cell_type": "markdown",
   "metadata": {},
   "source": [
    "Podemos plotar uma matriz mais interessante com a função abaixo usando o matplotlib.pyplot e a biblioteca itertools. Essa função utiliza muito da biblioteca matplotlib e o objetivo não é entendê-la, apenas usá-la para visualização no momento. O código foi disponibilizado originalmente na documentação da matriz de confusão no sklearn (link na célula acima)."
   ]
  },
  {
   "cell_type": "code",
   "execution_count": 22,
   "metadata": {
    "_uuid": "6a5cd9891b3624b3e19d40de5522f5241706615c",
    "colab": {},
    "colab_type": "code",
    "id": "aXYXa1tf1hYZ"
   },
   "outputs": [],
   "source": [
    "import itertools\n",
    "\n",
    "def plot_confusion_matrix(cm, classes,\n",
    "                          normalize=False,\n",
    "                          title='Confusion matrix',\n",
    "                          cmap=plt.cm.Blues):\n",
    "    \"\"\"\n",
    "    This function prints and plots the confusion matrix.\n",
    "    Normalization can be applied by setting `normalize=True`.\n",
    "    \"\"\"\n",
    "    if normalize:\n",
    "        cm = cm.astype('float') / cm.sum(axis=1)[:, np.newaxis]\n",
    "        print(\"Normalized confusion matrix\")\n",
    "    else:\n",
    "        print('Confusion matrix, without normalization')\n",
    "    \n",
    "    plt.grid(False)\n",
    "    plt.imshow(cm, interpolation='nearest', cmap=cmap)\n",
    "    plt.title(title)\n",
    "    plt.colorbar()\n",
    "    tick_marks = np.arange(len(classes))\n",
    "    plt.xticks(tick_marks, classes, rotation=45)\n",
    "    plt.yticks(tick_marks, classes)\n",
    "\n",
    "    fmt = '.2f' if normalize else 'd'\n",
    "    thresh = cm.max() / 2.\n",
    "    for i, j in itertools.product(range(cm.shape[0]), range(cm.shape[1])):\n",
    "        plt.text(j, i, format(cm[i, j], fmt),\n",
    "                 horizontalalignment=\"center\",\n",
    "                 color=\"white\" if cm[i, j] > thresh else \"black\")\n",
    "\n",
    "    plt.ylabel('True label')\n",
    "    plt.xlabel('Predicted label')\n",
    "    plt.tight_layout()"
   ]
  },
  {
   "cell_type": "markdown",
   "metadata": {
    "_uuid": "97b4ca6ea8c7b1ec14c94e4b7a97fb7fc45b18a0",
    "colab_type": "text",
    "id": "kzQta8wl1hYb"
   },
   "source": [
    "<b>Usando a função declarada acima plotamos novamente a matriz de confusão</b>"
   ]
  },
  {
   "cell_type": "code",
   "execution_count": 23,
   "metadata": {
    "_uuid": "e8017791b6961ff36aff53e47448a72351433367",
    "colab": {},
    "colab_type": "code",
    "id": "oP3FEVk01hYb",
    "scrolled": true
   },
   "outputs": [
    {
     "name": "stdout",
     "output_type": "stream",
     "text": [
      "Confusion matrix, without normalization\n"
     ]
    },
    {
     "data": {
      "image/png": "[encoded data removed]",
      "text/plain": [
       "<Figure size 432x288 with 2 Axes>"
      ]
     },
     "metadata": {
      "needs_background": "light"
     },
     "output_type": "display_data"
    }
   ],
   "source": [
    "plot_confusion_matrix(cnf_matrix, dec_clf.classes_, normalize=False, \n",
    "                      title='Confusion matrix', cmap=plt.cm.Greens)"
   ]
  },
  {
   "cell_type": "markdown",
   "metadata": {
    "_uuid": "49f8c86bca3615a8f1377423747560eb661ecfb0",
    "colab_type": "text",
    "id": "tBMeqqjH1hYd"
   },
   "source": [
    "<b>A matriz de confusão mostrada acima pode ser usada para construção da precisão e da revocação de cada classe: uma excelente explicação detalhada dessas métricas é dada [aqui](https://pt.wikipedia.org/wiki/Precis%C3%A3o_e_revoca%C3%A7%C3%A3o)</b>. Abaixo vamos construir uma função para calcular esse valores. Primeiro vamos calcular na mão, usando as definições. Depois disso vamos consultaralguns outros materiais para construir essa função."
   ]
  },
  {
   "cell_type": "code",
   "execution_count": 28,
   "metadata": {
    "_uuid": "3ac540723ee3767be41051ce54d5c43322b010dd",
    "colab": {},
    "colab_type": "code",
    "id": "ok6FY8dG1hYf",
    "scrolled": true
   },
   "outputs": [],
   "source": [
    "#def prec_revoc(cnf_matrix, classes):\n",
    "#    prec = []\n",
    "#    revoc = []\n",
    "    \n",
    "    # SEU CÓDIGO AQUI!\n",
    "    \n",
    "#    print(pd.DataFrame([prec,revoc], columns=classes, index=['Precisão', 'Revocação']))"
   ]
  },
  {
   "cell_type": "code",
   "execution_count": 29,
   "metadata": {
    "_uuid": "b93affcc30cb3bc9b6adaabac426de1185769832",
    "colab": {},
    "colab_type": "code",
    "id": "lISpad4n1hYh"
   },
   "outputs": [],
   "source": [
    "#prec_revoc(cnf_matrix, dec_clf.classes_)"
   ]
  },
  {
   "cell_type": "markdown",
   "metadata": {},
   "source": [
    "# Mãos à obra!"
   ]
  },
  {
   "cell_type": "markdown",
   "metadata": {},
   "source": [
    "Vamos aproveitar o código anterior, fazer as devidas modificações e comparar o resultado da nossa árvore com outros algoritmos de classificação.\n",
    "\n",
    "Extra: Vamos comparar também com o Perceptron criado na aula anterior?"
   ]
  }
 ],
 "metadata": {
  "kernelspec": {
   "display_name": "Python 3",
   "language": "python",
   "name": "python3"
  },
  "language_info": {
   "codemirror_mode": {
    "name": "ipython",
    "version": 3
   },
   "file_extension": ".py",
   "mimetype": "text/x-python",
   "name": "python",
   "nbconvert_exporter": "python",
   "pygments_lexer": "ipython3",
   "version": "3.7.4"
  }
 },
 "nbformat": 4,
 "nbformat_minor": 2
}
