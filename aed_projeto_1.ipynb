{
 "cells": [
  {
   "cell_type": "markdown",
   "metadata": {},
   "outputs": [],
   "source": [
    "# Projeto #1 - Análise Exploratória de Dados\n",
    "\n",
    "Antes de começar, leia as [Instruções](https://github.com/thvmm/pos-ds-ia/tree/master/projeto_1#instru%C3%A7%C3%B5es) e os [Critérios de Avaliação](https://github.com/thvmm/pos-ds-ia/tree/master/projeto_1#crit%C3%A9rios-de-avalia%C3%A7%C3%A3o)\n"
   ]
  },
  {
   "cell_type": "markdown",
   "metadata": {},
   "outputs": [],
   "source": [
    "### 1) **(5%)** Qual a base escolhida e qual seu interesse nela?"
   ]
  },
  {
   "cell_type": "markdown",
   "metadata": {},
   "outputs": [],
   "source": [
    "*Indique o link da base no Kaggle e explique em um parágrafo curto por que essa base é interessante para você.*\n",
    "<hr/>\n",
    "<br/>\n",
    "Este conjunto de dados (ml-latest-small) descreve a classificação de 5 estrelas e a atividade de marcação de texto livre do [MovieLens] (http://movielens.org), um serviço de recomendação de filmes. \n",
    "\n",
    "Este é um conjunto de dados * development *. Como tal, pode mudar com o tempo e não é um conjunto de dados apropriado para resultados de pesquisa compartilhados. Consulte os conjuntos de dados * benchmark * disponíveis, se essa for sua intenção.\n",
    "\n",
    "Este e outros conjuntos de dados do GroupLens estão disponíveis publicamente para download em <http://grouplens.org/datasets/>.\n"
   ]
  },
  {
   "cell_type": "markdown",
   "metadata": {},
   "outputs": [],
   "source": [
    "### 2) **(5%)** Descrição básica do conjunto de dados escolhido pelo aluno (1 parágrafo).\n",
    "- Identificação da variável a serem trabalhadas\n",
    "- Classificação das variáveis como: contínua ou discreta.\n",
    "\n",
    "\n",
    "\n"
   ]
  },
  {
   "cell_type": "markdown",
   "metadata": {},
   "outputs": [],
   "source": [
    "*Descrição da base e suas variáveis*\n",
    "\n",
    "<hr/>\n",
    "<br>\n",
    "\n",
    "Este dataset contém 100836 classificações e 3683 aplicativos de tags em 9742 filmes. Esses dados foram criados por 610 usuários entre 29 de março de 1996 e 24 de setembro de 2018. Esse conjunto de dados foi gerado em 26 de setembro de 2018.\n",
    "\n",
    "Os usuários foram selecionados aleatoriamente para inclusão. Todos os usuários selecionados avaliaram pelo menos 20 filmes. Nenhuma informação demográfica está incluída. Cada usuário é representado por um ID e nenhuma outra informação é fornecida.\n",
    "\n",
    "Os dados estão contidos nos arquivos links.csv, movies.csv, ratings.csv e tags.csv.\n"
   ]
  },
  {
   "cell_type": "markdown",
   "metadata": {},
   "outputs": [],
   "source": [
    "### 3) **(15%)** Faça uma avaliação descritiva da sua base. Quantas linhas ela possui? Quais os tipos de dados? Quantas e quais features possuem?\n",
    "\n",
    "Cada variável escolhida pelo aluno precisa passar por ao menos 1 pré-processamento. O pré-processamento pode ser (mas não está limitado a):\n",
    "- Checagem se os valores estão dentro de um limite permitido ou razoável.\n",
    "- Tratamento de valores ausentes por eliminação ou substituição.\n",
    "- Conversão do tipo de dados.\n",
    "\n",
    "<hr/>\n",
    "<br>\n",
    "\n",
    "Conteúdo e uso de arquivos\n",
    "========================\n",
    "\n",
    "Formatação e codificação\n",
    "-----------------------\n",
    "\n",
    "Os arquivos do conjunto de dados são gravados como arquivos [valores separados por vírgula] (http://en.wikipedia.org/wiki/Comma-separated_values) com uma única linha de cabeçalho. As colunas que contêm vírgulas (`,`) são escapadas usando aspas duplas (`\" `). Esses arquivos são codificados como UTF-8. Se caracteres acentuados em títulos de filmes ou valores de tags (por exemplo, Misérables, Les (1995)) forem exibidos incorretamente , verifique se qualquer programa que lê os dados, como um editor de texto, terminal ou script, está configurado para UTF-8.\n",
    "\n",
    "\n",
    "IDs de usuário\n",
    "--------\n",
    "\n",
    "Os usuários do MovieLens foram selecionados aleatoriamente para inclusão. Seus IDs foram anonimizados. Os IDs de usuário são consistentes entre `ratings.csv` e` tags.csv` (ou seja, o mesmo ID se refere ao mesmo usuário nos dois arquivos).\n",
    "\n",
    "\n",
    "IDs de filme\n",
    "---------\n",
    "\n",
    "Somente filmes com pelo menos uma classificação ou tag são incluídos no conjunto de dados. Esses IDs de filmes são consistentes com os usados ​​no site MovieLens (por exemplo, o ID `1` corresponde ao URL <https://movielens.org/movies/1>). Os IDs dos filmes são consistentes entre `ratings.csv`,` tags.csv`, `movies.csv` e` links.csv` (ou seja, o mesmo ID se refere ao mesmo filme nesses quatro arquivos de dados).\n",
    "\n",
    "\n",
    "Estrutura do arquivo de dados de classificações (ratings.csv)\n",
    "-----------------------------------------\n",
    "\n",
    "Todas as classificações estão contidas no arquivo `ratings.csv`. Cada linha deste arquivo após a linha do cabeçalho representa uma classificação de um filme por um usuário e tem o seguinte formato:\n",
    "\n",
    "    userId, movieId, classificação, carimbo de data e hora\n",
    "\n",
    "As linhas desse arquivo são ordenadas primeiro por userId e, em seguida, por userId por movieId.\n",
    "\n",
    "As classificações são feitas em uma escala de 5 estrelas, com incrementos de meia estrela (0,5 estrelas - 5,0 estrelas).\n",
    "\n",
    "Os carimbos de data e hora representam segundos desde a meia-noite, horário universal coordenado (UTC) de 1 de janeiro de 1970.\n",
    "\n",
    "\n",
    "Estrutura de arquivo de dados de tags (tags.csv)\n",
    "-----------------------------------\n",
    "\n",
    "Todas as tags estão contidas no arquivo `tags.csv`. Cada linha deste arquivo após a linha do cabeçalho representa uma tag aplicada a um filme por um usuário e tem o seguinte formato:\n",
    "\n",
    "    userId, movieId, tag, timestamp\n",
    "\n",
    "As linhas desse arquivo são ordenadas primeiro por userId e, em seguida, por userId por movieId.\n",
    "\n",
    "Tags são metadados gerados pelo usuário sobre filmes. Cada tag é tipicamente uma única palavra ou frase curta. O significado, valor e objetivo de uma tag específica são determinados por cada usuário.\n",
    "\n",
    "Os carimbos de data e hora representam segundos desde a meia-noite, horário universal coordenado (UTC) de 1 de janeiro de 1970.\n",
    "\n",
    "\n",
    "Estrutura do arquivo de dados de filmes (movies.csv)\n",
    "---------------------------------------\n",
    "\n",
    "Todas as tags estão contidas no arquivo `tags.csv`. Cada linha deste arquivo após a linha do cabeçalho representa uma tag aplicada a um filme por um usuário e tem o seguinte formato:\n",
    "\n",
    "    userId, movieId, tag, timestamp\n",
    "\n",
    "As linhas desse arquivo são ordenadas primeiro por userId e, em seguida, por userId por movieId.\n",
    "\n",
    "Tags são metadados gerados pelo usuário sobre filmes. Cada tag é tipicamente uma única palavra ou frase curta. O significado, valor e objetivo de uma tag específica são determinados por cada usuário.\n",
    "\n",
    "Os carimbos de data e hora representam segundos desde a meia-noite, horário universal coordenado (UTC) de 1 de janeiro de 1970.\n",
    "\n",
    "\n",
    "Estrutura do arquivo de dados de filmes (movies.csv)\n",
    "---------------------------------------\n",
    "\n",
    "As informações do filme estão contidas no arquivo `movies.csv`. Cada linha deste arquivo após a linha do cabeçalho representa um filme e possui o seguinte formato:\n",
    "\n",
    "    movieId, título, gêneros\n",
    "\n",
    "Os títulos dos filmes são inseridos manualmente ou importados de <https://www.themoviedb.org/> e incluem o ano de lançamento entre parênteses. Erros e inconsistências podem existir nesses títulos.\n",
    "\n",
    "Os gêneros são uma lista separada por canal e são selecionados dentre os seguintes:\n",
    "\n",
    "* Açao\n",
    "* Aventura\n",
    "* Animação\n",
    "* Crianças\n",
    "* Comédia\n",
    "* Crime\n",
    "* Documentário\n",
    "* Drama\n",
    "* Fantasia\n",
    "* Film-Noir\n",
    "* Horror\n",
    "* Musical\n",
    "* Mistério\n",
    "* Romance\n",
    "* Ficção científica\n",
    "* Suspense\n",
    "* Guerra\n",
    "* Ocidental\n",
    "* (nenhum gênero listado)\n",
    "\n",
    "\n",
    "Estrutura do arquivo de dados de links (links.csv)\n",
    "---------------------------------------\n",
    "\n",
    "Identificadores que podem ser usados ​​para vincular a outras fontes de dados do filme estão contidos no arquivo `links.csv`. Cada linha deste arquivo após a linha do cabeçalho representa um filme e possui o seguinte formato:\n",
    "\n",
    "    movieId, imdbId, tmdbId\n",
    "\n",
    "movieId é um identificador para filmes usados ​​por <https://movielens.org>. Por exemplo, o filme Toy Story tem o link <https://movielens.org/movies/1>.\n",
    "\n",
    "imdbId é um identificador para filmes usados ​​por <http://www.imdb.com>. Por exemplo, o filme Toy Story tem o link <http://www.imdb.com/title/tt0114709/>.\n",
    "\n",
    "tmdbId é um identificador para filmes usados ​​por <https://www.themoviedb.org>. Por exemplo, o filme Toy Story tem o link <https://www.themoviedb.org/movie/862>.\n",
    "\n",
    "O uso dos recursos listados acima está sujeito aos termos de cada provedor.\n",
    "\n"
   ]
  },
  {
   "cell_type": "code",
   "execution_count": 14,
   "metadata": {},
   "outputs": [],
   "source": [
    "# Implemente sua análise aqui. Use mais blocos se achar que ficará mais organizado."
   ]
  },
  {
   "cell_type": "markdown",
   "metadata": {},
   "outputs": [],
   "source": [
    "### 4) **(60%)** Nos blocos seguintes construa análises que vão justificar suas conclusões."
   ]
  },
  {
   "cell_type": "markdown",
   "metadata": {},
   "outputs": [],
   "source": [
    "#### 4.1) **(20%)** Análise 1 -  Distribuição dos valores para cada uma das variáveis\n",
    "- Exemplo para variável contínua: se o conjunto de dados possui a variável \"idade\". Quantos % possui a idade entre 0 e 30 anos? 31 a 59? 60+?\n",
    "\n",
    "- Exemplo para variável discreta: se o conjunto de dados possui a variável \"gênero\", quantos % do conjunto de dados é do sexo feminino, quantos % é masculino? Inclua outros gêneros se houver.\n"
   ]
  },
  {
   "cell_type": "code",
   "execution_count": 8,
   "metadata": {},
   "outputs": [],
   "source": [
    "# Implemente sua análise aqui. Use mais blocos se achar que ficará mais organizado."
   ]
  },
  {
   "cell_type": "markdown",
   "metadata": {},
   "outputs": [],
   "source": [
    "#### 4.2) **(20%)** Análise 2 - Dependência entre variáveis\n",
    "O aluno deve apresentar as mesmas distribuições para cada valor da variável dependente. Exemplo: Em um conjunto de dados em que as variáveis independentes são idade e sexo, e a variável dependente é renda. O aluno pode dividir a renda em 3 \"grupos\", <1000 reais, entre 1000 e 10000 reais e >1000 reais. Para cada um desses grupos, é necessário apresentar a distribuição das variáveis \"idade\" e \"sexo\".\n"
   ]
  },
  {
   "cell_type": "code",
   "execution_count": 9,
   "metadata": {},
   "outputs": [],
   "source": [
    "# Implemente sua análise aqui. Use mais blocos se achar que ficará mais organizado."
   ]
  },
  {
   "cell_type": "markdown",
   "metadata": {},
   "outputs": [],
   "source": [
    "#### 4.3) **(20%)** Análise 3 - Correlação entre variáveis\n",
    "\n",
    "O aluno deve apresentar 3 análises de correlação entre variáveis do conjunto de dados trabalhado. Exemplo: Em um conjunto de dados com as informações de temperatura e ocorrência de incêndios, eu gostaria de saber a incidência de correlação entre as duas variáveis.\n",
    "\n"
   ]
  },
  {
   "cell_type": "code",
   "execution_count": 10,
   "metadata": {},
   "outputs": [],
   "source": [
    "# Primeiro par de variáveis: Implemente sua análise aqui. Use mais blocos se achar que ficará mais organizado."
   ]
  },
  {
   "cell_type": "code",
   "execution_count": 11,
   "metadata": {},
   "outputs": [],
   "source": [
    "# Segundo par de variáveis: Implemente sua análise aqui. Use mais blocos se achar que ficará mais organizado."
   ]
  },
  {
   "cell_type": "code",
   "execution_count": 12,
   "metadata": {},
   "outputs": [],
   "source": [
    "# Terceiro par de variáveis: Implemente sua análise aqui. Use mais blocos se achar que ficará mais organizado."
   ]
  },
  {
   "cell_type": "markdown",
   "metadata": {},
   "outputs": [],
   "source": [
    "### 5) Conclusões **15%**"
   ]
  },
  {
   "cell_type": "markdown",
   "metadata": {},
   "outputs": [],
   "source": [
    "*O que é possível concluir com os dados que você analisou? Se fosse fazer uma apresentação, o que levaria como os maiores destaques e por que?*"
   ]
  },
  {
   "cell_type": "markdown",
   "metadata": {},
   "outputs": [],
   "source": []
  }
 ],
 "metadata": {
  "file_extension": ".py",
  "kernelspec": {
   "display_name": "Python 3",
   "language": "python",
   "name": "python3"
  },
  "language_info": {
   "codemirror_mode": {
    "name": "ipython",
    "version": 3
   },
   "file_extension": ".py",
   "mimetype": "text/x-python",
   "name": "python",
   "nbconvert_exporter": "python",
   "pygments_lexer": "ipython3",
   "version": "3.7.4"
  },
  "mimetype": "text/x-python",
  "name": "python",
  "npconvert_exporter": "python",
  "pygments_lexer": "ipython3",
  "version": 3
 },
 "nbformat": 4,
 "nbformat_minor": 2
}